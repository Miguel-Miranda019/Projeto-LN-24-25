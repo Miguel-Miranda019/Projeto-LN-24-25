{
 "cells": [
  {
   "cell_type": "code",
   "metadata": {
    "ExecuteTime": {
     "end_time": "2024-10-18T09:00:45.043111Z",
     "start_time": "2024-10-18T09:00:40.151267Z"
    }
   },
   "source": [
    "import pandas as pd\n",
    "from transformers import DistilBertTokenizer, TFDistilBertModel\n",
    "import tensorflow as tf\n",
    "from sklearn.model_selection import train_test_split\n",
    "from sklearn.preprocessing import LabelEncoder\n",
    "from sklearn.metrics import classification_report, confusion_matrix\n",
    "from sklearn.utils.class_weight import compute_class_weight\n",
    "import numpy as np\n",
    "\n",
    "import nltk\n",
    "import random\n",
    "from nltk.corpus import wordnet\n",
    "import seaborn as sns\n",
    "import matplotlib.pyplot as plt\n",
    "\n",
    "nltk.download('wordnet')\n",
    "\n",
    "tf.config.threading.set_intra_op_parallelism_threads(10)  # Number of threads within an individual op\n",
    "tf.config.threading.set_inter_op_parallelism_threads(4)  # Number of threads across ops\n"
   ],
   "outputs": [
    {
     "name": "stdout",
     "output_type": "stream",
     "text": [
      "WARNING:tensorflow:From E:\\Mestrado\\LN\\ProjetoLN\\.venv\\Lib\\site-packages\\tf_keras\\src\\losses.py:2976: The name tf.losses.sparse_softmax_cross_entropy is deprecated. Please use tf.compat.v1.losses.sparse_softmax_cross_entropy instead.\n",
      "\n"
     ]
    },
    {
     "name": "stderr",
     "output_type": "stream",
     "text": [
      "[nltk_data] Downloading package wordnet to\n",
      "[nltk_data]     C:\\Users\\Utilizador\\AppData\\Roaming\\nltk_data...\n",
      "[nltk_data]   Package wordnet is already up-to-date!\n"
     ]
    }
   ],
   "execution_count": 1
  },
  {
   "cell_type": "code",
   "metadata": {
    "ExecuteTime": {
     "end_time": "2024-10-18T09:00:45.161246Z",
     "start_time": "2024-10-18T09:00:45.044104Z"
    }
   },
   "source": [
    "# Load labeled dataset\n",
    "train_path = './train.txt' \n",
    "df = pd.read_csv(train_path, sep='\\t', names=['title', 'from', 'genre', 'director', 'plot'])\n",
    "df.drop(['title', 'from', 'director'], axis=1, inplace=True)"
   ],
   "outputs": [],
   "execution_count": 2
  },
  {
   "metadata": {
    "ExecuteTime": {
     "end_time": "2024-10-18T09:00:45.267940Z",
     "start_time": "2024-10-18T09:00:45.162239Z"
    }
   },
   "cell_type": "code",
   "source": [
    "plot_genre_count = df.groupby(['plot', 'genre']).size().reset_index(name='count')\n",
    "\n",
    "overall_genre_counts = df['genre'].value_counts().reset_index()\n",
    "overall_genre_counts.columns = ['genre', 'total_count']\n",
    "\n",
    "# Merge the overall genre counts with the plot-genre counts\n",
    "plot_genre_count_with_total = pd.merge(plot_genre_count, overall_genre_counts, on='genre')\n",
    "\n",
    "# Sort by Plot, then by Count (descending), and in case of tie, by Total_Count (ascending)\n",
    "plot_genre_count_sorted = plot_genre_count_with_total.sort_values(['plot', 'count', 'total_count'], ascending=[True, False, True])\n",
    "\n",
    "# Group by Plot and take the first row based on count of plot-genre and genre-total genre count relationships\n",
    "df = plot_genre_count_sorted.groupby('plot').first().reset_index()\n",
    "\n",
    "# Drop unnecessary columns\n",
    "df.drop(['count', 'total_count'], axis=1, inplace=True)"
   ],
   "outputs": [],
   "execution_count": 3
  },
  {
   "cell_type": "code",
   "metadata": {
    "ExecuteTime": {
     "end_time": "2024-10-18T09:00:45.280097Z",
     "start_time": "2024-10-18T09:00:45.267940Z"
    }
   },
   "source": [
    "# Load unlabeled test set\n",
    "test_path = './test_no_labels.txt'\n",
    "test_df = pd.read_csv(test_path, sep='\\t', names=['title', 'from', 'director', 'plot'])\n",
    "test_df.drop(['title', 'from', 'director'], axis=1, inplace=True)"
   ],
   "outputs": [],
   "execution_count": 4
  },
  {
   "cell_type": "code",
   "metadata": {
    "ExecuteTime": {
     "end_time": "2024-10-18T09:00:45.283588Z",
     "start_time": "2024-10-18T09:00:45.280097Z"
    }
   },
   "source": [
    "# Features and target\n",
    "X = df['plot']\n",
    "y = df['genre']"
   ],
   "outputs": [],
   "execution_count": 5
  },
  {
   "cell_type": "code",
   "metadata": {
    "ExecuteTime": {
     "end_time": "2024-10-18T09:00:45.287481Z",
     "start_time": "2024-10-18T09:00:45.283588Z"
    }
   },
   "source": [
    "# Encode labels\n",
    "label_encoder = LabelEncoder()\n",
    "y = label_encoder.fit_transform(y)"
   ],
   "outputs": [],
   "execution_count": 6
  },
  {
   "cell_type": "code",
   "metadata": {
    "ExecuteTime": {
     "end_time": "2024-10-18T09:00:45.293460Z",
     "start_time": "2024-10-18T09:00:45.288472Z"
    }
   },
   "source": [
    "# Split dataset into training (64%), validation (16%), and test sets (20%)\n",
    "X_train, X_temp, y_train, y_temp = train_test_split(X, y, test_size=0.3, random_state=777)\n",
    "X_val, X_test, y_val, y_test = train_test_split(X_temp, y_temp, test_size=0.5, random_state=777)  # 55% of 36% goes to test"
   ],
   "outputs": [],
   "execution_count": 7
  },
  {
   "metadata": {
    "ExecuteTime": {
     "end_time": "2024-10-18T09:01:35.350181Z",
     "start_time": "2024-10-18T09:00:45.294453Z"
    }
   },
   "cell_type": "code",
   "source": [
    "# Map NLTK POS tags to WordNet POS tags\n",
    "def get_wordnet_pos(tag):\n",
    "    if tag.startswith('J'):\n",
    "        return wordnet.ADJ\n",
    "    elif tag.startswith('V'):\n",
    "        return wordnet.VERB\n",
    "    elif tag.startswith('N'):\n",
    "        return wordnet.NOUN\n",
    "    elif tag.startswith('R'):\n",
    "        return wordnet.ADV\n",
    "    else:\n",
    "        return None\n",
    "    \n",
    "# Get synonyms that match the part of speech of the word\n",
    "def get_synonyms(word, pos):\n",
    "    synonyms = set()\n",
    "    \n",
    "    for syn in wordnet.synsets(word, pos=pos):  # Only use synonyms with matching POS\n",
    "        for lemma in syn.lemmas():\n",
    "            # Exclude the word itself from the list of synonyms\n",
    "            if lemma.name().lower() != word.lower():\n",
    "                synonyms.add(lemma.name().replace('_', ' '))  # Convert underscores to spaces\n",
    "    \n",
    "    return list(synonyms)\n",
    "\n",
    "def synonym_replacement(text, n):\n",
    "    words = nltk.word_tokenize(text)\n",
    "    pos_tags = nltk.pos_tag(words)  # Get POS tags for each word\n",
    "    new_words = words.copy()\n",
    "    \n",
    "    # Filter for only alphanumeric words and their part-of-speech tags\n",
    "    random_word_list = list(set([(word, get_wordnet_pos(tag)) for word, tag in pos_tags if word.isalnum() and get_wordnet_pos(tag)]))\n",
    "    \n",
    "    # Determine the number of words to replace based on the percentage `n`\n",
    "    num_words_to_replace = max(1, int(len(random_word_list) * n))  # Ensure at least one word is replaced\n",
    "    \n",
    "    random.shuffle(random_word_list)  # Shuffle for randomness\n",
    "    num_replaced = 0\n",
    "    \n",
    "    for random_word, pos in random_word_list:\n",
    "        synonyms = get_synonyms(random_word, pos)  # Get synonyms matching the POS\n",
    "        \n",
    "        if synonyms:  # Replace only if there are synonyms available\n",
    "            synonym = random.choice(synonyms)\n",
    "            new_words = [synonym if word == random_word else word for word in new_words]\n",
    "            num_replaced += 1\n",
    "        \n",
    "        if num_replaced >= num_words_to_replace:  # Stop when the desired number of replacements is reached\n",
    "            break\n",
    "    \n",
    "    return ' '.join(new_words)\n",
    "\n",
    "X_train_augmented = X_train.copy()\n",
    "X_train_augmented = X_train_augmented.apply(lambda plot: synonym_replacement(plot, n=0.6))\n",
    "X_train_combined = pd.concat([X_train, X_train_augmented])\n",
    "y_train_combined = np.concatenate([y_train, y_train])"
   ],
   "outputs": [],
   "execution_count": 8
  },
  {
   "cell_type": "code",
   "metadata": {
    "ExecuteTime": {
     "end_time": "2024-10-18T09:01:36.312236Z",
     "start_time": "2024-10-18T09:01:35.350181Z"
    }
   },
   "source": [
    "# Pre-trained DistilBERT tokenizer and model\n",
    "tokenizer = DistilBertTokenizer.from_pretrained('distilbert-base-uncased')\n",
    "model = TFDistilBertModel.from_pretrained('distilbert-base-uncased')\n",
    "model.trainable = True"
   ],
   "outputs": [
    {
     "name": "stdout",
     "output_type": "stream",
     "text": [
      "WARNING:tensorflow:From E:\\Mestrado\\LN\\ProjetoLN\\.venv\\Lib\\site-packages\\tf_keras\\src\\backend.py:873: The name tf.get_default_graph is deprecated. Please use tf.compat.v1.get_default_graph instead.\n",
      "\n"
     ]
    },
    {
     "name": "stderr",
     "output_type": "stream",
     "text": [
      "Some weights of the PyTorch model were not used when initializing the TF 2.0 model TFDistilBertModel: ['vocab_layer_norm.bias', 'vocab_layer_norm.weight', 'vocab_transform.weight', 'vocab_projector.bias', 'vocab_transform.bias']\n",
      "- This IS expected if you are initializing TFDistilBertModel from a PyTorch model trained on another task or with another architecture (e.g. initializing a TFBertForSequenceClassification model from a BertForPreTraining model).\n",
      "- This IS NOT expected if you are initializing TFDistilBertModel from a PyTorch model that you expect to be exactly identical (e.g. initializing a TFBertForSequenceClassification model from a BertForSequenceClassification model).\n",
      "All the weights of TFDistilBertModel were initialized from the PyTorch model.\n",
      "If your task is similar to the task the model of the checkpoint was trained on, you can already use TFDistilBertModel for predictions without further training.\n"
     ]
    }
   ],
   "execution_count": 9
  },
  {
   "cell_type": "code",
   "metadata": {
    "ExecuteTime": {
     "end_time": "2024-10-18T09:01:36.315224Z",
     "start_time": "2024-10-18T09:01:36.312236Z"
    }
   },
   "source": [
    "def preprocess_text(texts, max_len=256):\n",
    "    # Tokenizing the text with truncation, padding, and returning tensors as needed\n",
    "    encoding = tokenizer(\n",
    "        texts.tolist(),\n",
    "        max_length=max_len,\n",
    "        padding='max_length',\n",
    "        truncation=True,\n",
    "        return_tensors=\"tf\"\n",
    "    )\n",
    "    return {'input_ids': encoding['input_ids'], 'attention_mask': encoding['attention_mask']}"
   ],
   "outputs": [],
   "execution_count": 10
  },
  {
   "cell_type": "code",
   "metadata": {
    "ExecuteTime": {
     "end_time": "2024-10-18T09:02:10.530004Z",
     "start_time": "2024-10-18T09:01:36.315224Z"
    }
   },
   "source": [
    "# Tokenize the train, validation, and test sets\n",
    "X_train_tokens = preprocess_text(X_train_combined)\n",
    "print('done train')\n",
    "X_val_tokens = preprocess_text(X_val)\n",
    "print('done val')\n",
    "X_test_tokens = preprocess_text(X_test)\n",
    "print('done test')"
   ],
   "outputs": [
    {
     "name": "stdout",
     "output_type": "stream",
     "text": [
      "done train\n",
      "done val\n",
      "done test\n"
     ]
    }
   ],
   "execution_count": 11
  },
  {
   "cell_type": "code",
   "metadata": {
    "ExecuteTime": {
     "end_time": "2024-10-18T09:02:11.618168Z",
     "start_time": "2024-10-18T09:02:10.530996Z"
    }
   },
   "source": [
    "# Build the model with DistilBERT as the base\n",
    "input_ids = tf.keras.layers.Input(shape=(256,), dtype=tf.int32, name='input_ids')\n",
    "attention_mask = tf.keras.layers.Input(shape=(256,), dtype=tf.int32, name='attention_mask')\n",
    "bert_output = model(input_ids, attention_mask=attention_mask)[0][:, 0, :]"
   ],
   "outputs": [],
   "execution_count": 12
  },
  {
   "cell_type": "code",
   "metadata": {
    "ExecuteTime": {
     "end_time": "2024-10-18T09:02:11.641094Z",
     "start_time": "2024-10-18T09:02:11.618168Z"
    }
   },
   "source": [
    "dense1 = tf.keras.layers.Dense(256, activation='relu')(bert_output)\n",
    "dropout1 = tf.keras.layers.Dropout(0.3)(dense1)\n",
    "dense2 = tf.keras.layers.Dense(128, activation='relu')(dropout1)\n",
    "dropout2 = tf.keras.layers.Dropout(0.3)(dense2)\n",
    "output = tf.keras.layers.Dense(len(df['genre'].unique()), activation='softmax')(dropout2)"
   ],
   "outputs": [],
   "execution_count": 13
  },
  {
   "cell_type": "code",
   "metadata": {
    "ExecuteTime": {
     "end_time": "2024-10-18T09:02:11.646083Z",
     "start_time": "2024-10-18T09:02:11.641094Z"
    }
   },
   "source": [
    "# Define the classifier model\n",
    "classifier_model = tf.keras.Model(inputs=[input_ids, attention_mask], outputs=output)"
   ],
   "outputs": [],
   "execution_count": 14
  },
  {
   "cell_type": "code",
   "metadata": {
    "ExecuteTime": {
     "end_time": "2024-10-18T09:02:11.656257Z",
     "start_time": "2024-10-18T09:02:11.646083Z"
    }
   },
   "source": [
    "# Compile the model\n",
    "classifier_model.compile(optimizer=tf.keras.optimizers.Adam(learning_rate=2e-5),\n",
    "                         loss='sparse_categorical_crossentropy',\n",
    "                         metrics=['accuracy'])"
   ],
   "outputs": [],
   "execution_count": 15
  },
  {
   "cell_type": "code",
   "metadata": {
    "ExecuteTime": {
     "end_time": "2024-10-18T09:02:11.658815Z",
     "start_time": "2024-10-18T09:02:11.656257Z"
    }
   },
   "source": [
    "early_stopping = tf.keras.callbacks.EarlyStopping(monitor='val_loss', patience=3, restore_best_weights=True)\n",
    "model_checkpoint = tf.keras.callbacks.ModelCheckpoint('best_model.h5', save_best_only=True, monitor='val_loss')"
   ],
   "outputs": [],
   "execution_count": 16
  },
  {
   "cell_type": "code",
   "metadata": {
    "ExecuteTime": {
     "end_time": "2024-10-18T09:02:11.662540Z",
     "start_time": "2024-10-18T09:02:11.658815Z"
    }
   },
   "source": [
    "class_weights = compute_class_weight('balanced', classes=np.unique(y_train_combined), y=y_train_combined)\n",
    "class_weight_dict = dict(enumerate(class_weights))"
   ],
   "outputs": [],
   "execution_count": 17
  },
  {
   "cell_type": "code",
   "metadata": {
    "ExecuteTime": {
     "end_time": "2024-10-18T10:41:54.945361Z",
     "start_time": "2024-10-18T09:02:11.662540Z"
    }
   },
   "source": [
    "tf.config.threading.set_intra_op_parallelism_threads(10)  # Number of threads within an individual op\n",
    "tf.config.threading.set_inter_op_parallelism_threads(4)  # Number of threads across ops\n",
    "# Train the model\n",
    "history = classifier_model.fit(\n",
    "    {'input_ids': X_train_tokens['input_ids'], 'attention_mask': X_train_tokens['attention_mask']},\n",
    "    y_train_combined,\n",
    "    validation_data=({'input_ids': X_val_tokens['input_ids'], 'attention_mask': X_val_tokens['attention_mask']}, y_val),\n",
    "    epochs=5,\n",
    "    batch_size=16,\n",
    "    callbacks=[early_stopping, model_checkpoint],\n",
    "    class_weight=class_weight_dict\n",
    ")"
   ],
   "outputs": [
    {
     "name": "stdout",
     "output_type": "stream",
     "text": [
      "Epoch 1/5\n",
      "WARNING:tensorflow:From E:\\Mestrado\\LN\\ProjetoLN\\.venv\\Lib\\site-packages\\tf_keras\\src\\utils\\tf_utils.py:492: The name tf.ragged.RaggedTensorValue is deprecated. Please use tf.compat.v1.ragged.RaggedTensorValue instead.\n",
      "\n",
      "WARNING:tensorflow:From E:\\Mestrado\\LN\\ProjetoLN\\.venv\\Lib\\site-packages\\tf_keras\\src\\engine\\base_layer_utils.py:384: The name tf.executing_eagerly_outside_functions is deprecated. Please use tf.compat.v1.executing_eagerly_outside_functions instead.\n",
      "\n",
      "698/698 [==============================] - ETA: 0s - loss: 1.3697 - accuracy: 0.4653"
     ]
    },
    {
     "name": "stderr",
     "output_type": "stream",
     "text": [
      "E:\\Mestrado\\LN\\ProjetoLN\\.venv\\Lib\\site-packages\\tf_keras\\src\\engine\\training.py:3098: UserWarning: You are saving your model as an HDF5 file via `model.save()`. This file format is considered legacy. We recommend using instead the native TF-Keras format, e.g. `model.save('my_model.keras')`.\n",
      "  saving_api.save_model(\n"
     ]
    },
    {
     "name": "stdout",
     "output_type": "stream",
     "text": [
      "698/698 [==============================] - 1191s 2s/step - loss: 1.3697 - accuracy: 0.4653 - val_loss: 1.1498 - val_accuracy: 0.6174\n",
      "Epoch 2/5\n",
      "698/698 [==============================] - 1188s 2s/step - loss: 0.8563 - accuracy: 0.6681 - val_loss: 0.9742 - val_accuracy: 0.6759\n",
      "Epoch 3/5\n",
      "698/698 [==============================] - 1222s 2s/step - loss: 0.5716 - accuracy: 0.7701 - val_loss: 0.9693 - val_accuracy: 0.6825\n",
      "Epoch 4/5\n",
      "698/698 [==============================] - 1191s 2s/step - loss: 0.3573 - accuracy: 0.8549 - val_loss: 1.0892 - val_accuracy: 0.6675\n",
      "Epoch 5/5\n",
      "698/698 [==============================] - 1191s 2s/step - loss: 0.2088 - accuracy: 0.9216 - val_loss: 1.3177 - val_accuracy: 0.6967\n"
     ]
    }
   ],
   "execution_count": 18
  },
  {
   "cell_type": "code",
   "metadata": {
    "ExecuteTime": {
     "end_time": "2024-10-18T10:42:35.016917Z",
     "start_time": "2024-10-18T10:41:54.946359Z"
    }
   },
   "source": [
    "# Evaluate on the test set\n",
    "test_results = classifier_model.evaluate(\n",
    "    {'input_ids': X_test_tokens['input_ids'], 'attention_mask': X_test_tokens['attention_mask']},\n",
    "    y_test\n",
    ")\n",
    "print(f\"Test Loss: {test_results[0]}\")\n",
    "print(f\"Test Accuracy: {test_results[1]}\")"
   ],
   "outputs": [
    {
     "name": "stdout",
     "output_type": "stream",
     "text": [
      "38/38 [==============================] - 40s 1s/step - loss: 1.0352 - accuracy: 0.6850\n",
      "Test Loss: 1.0352377891540527\n",
      "Test Accuracy: 0.6850459575653076\n"
     ]
    }
   ],
   "execution_count": 19
  },
  {
   "cell_type": "code",
   "metadata": {
    "ExecuteTime": {
     "end_time": "2024-10-18T10:43:15.555214Z",
     "start_time": "2024-10-18T10:42:35.016917Z"
    }
   },
   "source": [
    "# Generate classification report for the test set\n",
    "y_test_pred = classifier_model.predict({'input_ids': X_test_tokens['input_ids'], 'attention_mask': X_test_tokens['attention_mask']})\n",
    "y_test_pred_labels = label_encoder.inverse_transform(tf.argmax(y_test_pred, axis=1))\n",
    "print(classification_report(label_encoder.inverse_transform(y_test), y_test_pred_labels))\n",
    "\n",
    "\n",
    "conf_matrix = confusion_matrix(y_test, tf.argmax(y_test_pred, axis=1))\n",
    "genre_names = label_encoder.classes_\n",
    "# Plot confusion matrix using seaborn\n",
    "plt.figure(figsize=(10, 7))\n",
    "sns.heatmap(conf_matrix, annot=True, fmt='d', cmap='Blues', xticklabels=genre_names, yticklabels=genre_names)\n",
    "plt.title('Confusion Matrix')\n",
    "plt.xlabel('Predicted Labels')\n",
    "plt.ylabel('True Labels')\n",
    "plt.show()"
   ],
   "outputs": [
    {
     "name": "stdout",
     "output_type": "stream",
     "text": [
      "38/38 [==============================] - 40s 1s/step\n",
      "              precision    recall  f1-score   support\n",
      "\n",
      "      action       0.65      0.65      0.65       160\n",
      "   animation       0.79      0.76      0.78        66\n",
      "      comedy       0.58      0.58      0.58       165\n",
      "       crime       0.56      0.61      0.58        77\n",
      "       drama       0.64      0.57      0.60       254\n",
      "      horror       0.80      0.86      0.83       176\n",
      "     romance       0.58      0.55      0.56       128\n",
      "      sci-fi       0.55      0.74      0.63        31\n",
      "     western       0.91      0.96      0.93       140\n",
      "\n",
      "    accuracy                           0.69      1197\n",
      "   macro avg       0.67      0.70      0.68      1197\n",
      "weighted avg       0.68      0.69      0.68      1197\n",
      "\n"
     ]
    },
    {
     "data": {
      "text/plain": [
       "<Figure size 1000x700 with 2 Axes>"
      ],
      "image/png": "[encoded data removed]"
     },
     "metadata": {},
     "output_type": "display_data"
    }
   ],
   "execution_count": 20
  },
  {
   "metadata": {
    "ExecuteTime": {
     "end_time": "2024-10-18T10:43:29.858527Z",
     "start_time": "2024-10-18T10:43:15.556208Z"
    }
   },
   "cell_type": "code",
   "source": [
    "# Prepare the unlabeled test set\n",
    "X_unlabeled_tokens = preprocess_text(test_df['plot'])\n",
    "\n",
    "# Make predictions on the unlabeled test set\n",
    "predictions = classifier_model.predict(\n",
    "    {'input_ids': X_unlabeled_tokens['input_ids'], 'attention_mask': X_unlabeled_tokens['attention_mask']}\n",
    ")"
   ],
   "outputs": [
    {
     "name": "stdout",
     "output_type": "stream",
     "text": [
      "13/13 [==============================] - 13s 1s/step\n"
     ]
    }
   ],
   "execution_count": 21
  },
  {
   "metadata": {
    "ExecuteTime": {
     "end_time": "2024-10-18T10:43:29.861375Z",
     "start_time": "2024-10-18T10:43:29.859032Z"
    }
   },
   "cell_type": "code",
   "source": [
    "# Convert predictions to labels\n",
    "predicted_genres = label_encoder.inverse_transform(tf.argmax(predictions, axis=1))"
   ],
   "outputs": [],
   "execution_count": 22
  },
  {
   "metadata": {
    "ExecuteTime": {
     "end_time": "2024-10-18T10:43:29.864405Z",
     "start_time": "2024-10-18T10:43:29.861375Z"
    }
   },
   "cell_type": "code",
   "source": [
    "# Create a dataframe with results\n",
    "results_df = pd.DataFrame({'plot': test_df['plot'], 'predicted_genre': predicted_genres})"
   ],
   "outputs": [],
   "execution_count": 23
  },
  {
   "metadata": {
    "ExecuteTime": {
     "end_time": "2024-10-18T10:43:29.877025Z",
     "start_time": "2024-10-18T10:43:29.864405Z"
    }
   },
   "cell_type": "code",
   "source": [
    "# Save results to CSV\n",
    "results_df.to_csv('predicted_genres.csv', index=False)\n",
    "print(\"Predictions saved to 'predicted_genres.csv'\")\n",
    "\n",
    "# Save results to TXT\n",
    "with open('predicted_genres.txt', 'w') as f:\n",
    "    for genre in predicted_genres:\n",
    "        f.write(genre + '\\n')\n",
    "print(\"Predictions saved to 'predicted_genres.txt'\")"
   ],
   "outputs": [
    {
     "name": "stdout",
     "output_type": "stream",
     "text": [
      "Predictions saved to 'predicted_genres.csv'\n",
      "Predictions saved to 'predicted_genres.txt'\n"
     ]
    }
   ],
   "execution_count": 24
  }
 ],
 "metadata": {
  "kernelspec": {
   "display_name": "venv",
   "language": "python",
   "name": "python3"
  },
  "language_info": {
   "codemirror_mode": {
    "name": "ipython",
    "version": 3
   },
   "file_extension": ".py",
   "mimetype": "text/x-python",
   "name": "python",
   "nbconvert_exporter": "python",
   "pygments_lexer": "ipython3",
   "version": "3.12.7"
  }
 },
 "nbformat": 4,
 "nbformat_minor": 2
}
